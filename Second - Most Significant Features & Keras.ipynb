{
 "cells": [
  {
   "cell_type": "markdown",
   "metadata": {},
   "source": [
    "# Importing Jupyter modules"
   ]
  },
  {
   "cell_type": "code",
   "execution_count": 1,
   "metadata": {},
   "outputs": [],
   "source": [
    "from IPython.display import display"
   ]
  },
  {
   "cell_type": "markdown",
   "metadata": {},
   "source": [
    "# Importing Modules"
   ]
  },
  {
   "cell_type": "code",
   "execution_count": 2,
   "metadata": {},
   "outputs": [],
   "source": [
    "import pandas as pd\n",
    "import numpy as np\n",
    "import seaborn as sns\n",
    "import matplotlib.pyplot as plt"
   ]
  },
  {
   "cell_type": "markdown",
   "metadata": {},
   "source": [
    "# Loading data\n",
    "Put both train and test csv files from Kaggle inside **data** folder which in turn should be in the folder where your **notebook resides**."
   ]
  },
  {
   "cell_type": "code",
   "execution_count": 3,
   "metadata": {},
   "outputs": [
    {
     "data": {
      "text/html": [
       "<div>\n",
       "<style scoped>\n",
       "    .dataframe tbody tr th:only-of-type {\n",
       "        vertical-align: middle;\n",
       "    }\n",
       "\n",
       "    .dataframe tbody tr th {\n",
       "        vertical-align: top;\n",
       "    }\n",
       "\n",
       "    .dataframe thead th {\n",
       "        text-align: right;\n",
       "    }\n",
       "</style>\n",
       "<table border=\"1\" class=\"dataframe\">\n",
       "  <thead>\n",
       "    <tr style=\"text-align: right;\">\n",
       "      <th></th>\n",
       "      <th>PassengerId</th>\n",
       "      <th>Survived</th>\n",
       "      <th>Pclass</th>\n",
       "      <th>Name</th>\n",
       "      <th>Sex</th>\n",
       "      <th>Age</th>\n",
       "      <th>SibSp</th>\n",
       "      <th>Parch</th>\n",
       "      <th>Ticket</th>\n",
       "      <th>Fare</th>\n",
       "      <th>Cabin</th>\n",
       "      <th>Embarked</th>\n",
       "    </tr>\n",
       "  </thead>\n",
       "  <tbody>\n",
       "    <tr>\n",
       "      <th>0</th>\n",
       "      <td>1</td>\n",
       "      <td>0</td>\n",
       "      <td>3</td>\n",
       "      <td>Braund, Mr. Owen Harris</td>\n",
       "      <td>male</td>\n",
       "      <td>22.0</td>\n",
       "      <td>1</td>\n",
       "      <td>0</td>\n",
       "      <td>A/5 21171</td>\n",
       "      <td>7.2500</td>\n",
       "      <td>NaN</td>\n",
       "      <td>S</td>\n",
       "    </tr>\n",
       "    <tr>\n",
       "      <th>1</th>\n",
       "      <td>2</td>\n",
       "      <td>1</td>\n",
       "      <td>1</td>\n",
       "      <td>Cumings, Mrs. John Bradley (Florence Briggs Th...</td>\n",
       "      <td>female</td>\n",
       "      <td>38.0</td>\n",
       "      <td>1</td>\n",
       "      <td>0</td>\n",
       "      <td>PC 17599</td>\n",
       "      <td>71.2833</td>\n",
       "      <td>C85</td>\n",
       "      <td>C</td>\n",
       "    </tr>\n",
       "  </tbody>\n",
       "</table>\n",
       "</div>"
      ],
      "text/plain": [
       "   PassengerId  Survived  Pclass  \\\n",
       "0            1         0       3   \n",
       "1            2         1       1   \n",
       "\n",
       "                                                Name     Sex   Age  SibSp  \\\n",
       "0                            Braund, Mr. Owen Harris    male  22.0      1   \n",
       "1  Cumings, Mrs. John Bradley (Florence Briggs Th...  female  38.0      1   \n",
       "\n",
       "   Parch     Ticket     Fare Cabin Embarked  \n",
       "0      0  A/5 21171   7.2500   NaN        S  \n",
       "1      0   PC 17599  71.2833   C85        C  "
      ]
     },
     "execution_count": 3,
     "metadata": {},
     "output_type": "execute_result"
    }
   ],
   "source": [
    "train_df = pd.read_csv(\"data/train.csv\")\n",
    "train_df.head(2)"
   ]
  },
  {
   "cell_type": "code",
   "execution_count": 4,
   "metadata": {},
   "outputs": [
    {
     "data": {
      "text/html": [
       "<div>\n",
       "<style scoped>\n",
       "    .dataframe tbody tr th:only-of-type {\n",
       "        vertical-align: middle;\n",
       "    }\n",
       "\n",
       "    .dataframe tbody tr th {\n",
       "        vertical-align: top;\n",
       "    }\n",
       "\n",
       "    .dataframe thead th {\n",
       "        text-align: right;\n",
       "    }\n",
       "</style>\n",
       "<table border=\"1\" class=\"dataframe\">\n",
       "  <thead>\n",
       "    <tr style=\"text-align: right;\">\n",
       "      <th></th>\n",
       "      <th>PassengerId</th>\n",
       "      <th>Pclass</th>\n",
       "      <th>Name</th>\n",
       "      <th>Sex</th>\n",
       "      <th>Age</th>\n",
       "      <th>SibSp</th>\n",
       "      <th>Parch</th>\n",
       "      <th>Ticket</th>\n",
       "      <th>Fare</th>\n",
       "      <th>Cabin</th>\n",
       "      <th>Embarked</th>\n",
       "    </tr>\n",
       "  </thead>\n",
       "  <tbody>\n",
       "    <tr>\n",
       "      <th>0</th>\n",
       "      <td>892</td>\n",
       "      <td>3</td>\n",
       "      <td>Kelly, Mr. James</td>\n",
       "      <td>male</td>\n",
       "      <td>34.5</td>\n",
       "      <td>0</td>\n",
       "      <td>0</td>\n",
       "      <td>330911</td>\n",
       "      <td>7.8292</td>\n",
       "      <td>NaN</td>\n",
       "      <td>Q</td>\n",
       "    </tr>\n",
       "    <tr>\n",
       "      <th>1</th>\n",
       "      <td>893</td>\n",
       "      <td>3</td>\n",
       "      <td>Wilkes, Mrs. James (Ellen Needs)</td>\n",
       "      <td>female</td>\n",
       "      <td>47.0</td>\n",
       "      <td>1</td>\n",
       "      <td>0</td>\n",
       "      <td>363272</td>\n",
       "      <td>7.0000</td>\n",
       "      <td>NaN</td>\n",
       "      <td>S</td>\n",
       "    </tr>\n",
       "  </tbody>\n",
       "</table>\n",
       "</div>"
      ],
      "text/plain": [
       "   PassengerId  Pclass                              Name     Sex   Age  SibSp  \\\n",
       "0          892       3                  Kelly, Mr. James    male  34.5      0   \n",
       "1          893       3  Wilkes, Mrs. James (Ellen Needs)  female  47.0      1   \n",
       "\n",
       "   Parch  Ticket    Fare Cabin Embarked  \n",
       "0      0  330911  7.8292   NaN        Q  \n",
       "1      0  363272  7.0000   NaN        S  "
      ]
     },
     "execution_count": 4,
     "metadata": {},
     "output_type": "execute_result"
    }
   ],
   "source": [
    "test_df = pd.read_csv(\"data/test.csv\")\n",
    "test_df.head(2)"
   ]
  },
  {
   "cell_type": "markdown",
   "metadata": {},
   "source": [
    "# Check details of the data frames"
   ]
  },
  {
   "cell_type": "code",
   "execution_count": 5,
   "metadata": {},
   "outputs": [
    {
     "name": "stdout",
     "output_type": "stream",
     "text": [
      "<class 'pandas.core.frame.DataFrame'>\n",
      "RangeIndex: 891 entries, 0 to 890\n",
      "Data columns (total 12 columns):\n",
      "PassengerId    891 non-null int64\n",
      "Survived       891 non-null int64\n",
      "Pclass         891 non-null int64\n",
      "Name           891 non-null object\n",
      "Sex            891 non-null object\n",
      "Age            714 non-null float64\n",
      "SibSp          891 non-null int64\n",
      "Parch          891 non-null int64\n",
      "Ticket         891 non-null object\n",
      "Fare           891 non-null float64\n",
      "Cabin          204 non-null object\n",
      "Embarked       889 non-null object\n",
      "dtypes: float64(2), int64(5), object(5)\n",
      "memory usage: 83.6+ KB\n"
     ]
    }
   ],
   "source": [
    "train_df.info()"
   ]
  },
  {
   "cell_type": "code",
   "execution_count": 6,
   "metadata": {},
   "outputs": [
    {
     "name": "stdout",
     "output_type": "stream",
     "text": [
      "<class 'pandas.core.frame.DataFrame'>\n",
      "RangeIndex: 418 entries, 0 to 417\n",
      "Data columns (total 11 columns):\n",
      "PassengerId    418 non-null int64\n",
      "Pclass         418 non-null int64\n",
      "Name           418 non-null object\n",
      "Sex            418 non-null object\n",
      "Age            332 non-null float64\n",
      "SibSp          418 non-null int64\n",
      "Parch          418 non-null int64\n",
      "Ticket         418 non-null object\n",
      "Fare           417 non-null float64\n",
      "Cabin          91 non-null object\n",
      "Embarked       418 non-null object\n",
      "dtypes: float64(2), int64(4), object(5)\n",
      "memory usage: 36.0+ KB\n"
     ]
    }
   ],
   "source": [
    "test_df.info()"
   ]
  },
  {
   "cell_type": "markdown",
   "metadata": {},
   "source": [
    "# Drop columns\n",
    "PassengerId is just a serial number of passengers and does not carry any meaning.  \n",
    "We will not be using Name for now.  \n",
    "Cabin features is too *sparse*.  \n",
    "Fare features was not used to finish the workshop on time. But, you are encouraged to use it in your model."
   ]
  },
  {
   "cell_type": "code",
   "execution_count": 7,
   "metadata": {},
   "outputs": [],
   "source": [
    "to_drop = [\"PassengerId\", \"Name\", \"Ticket\", \"Cabin\", \"Fare\"]"
   ]
  },
  {
   "cell_type": "code",
   "execution_count": 8,
   "metadata": {},
   "outputs": [],
   "source": [
    "train2 = train_df.drop(to_drop, axis=1)\n",
    "test2 = test_df.drop(to_drop, axis=1)"
   ]
  },
  {
   "cell_type": "code",
   "execution_count": 9,
   "metadata": {},
   "outputs": [
    {
     "data": {
      "text/html": [
       "<div>\n",
       "<style scoped>\n",
       "    .dataframe tbody tr th:only-of-type {\n",
       "        vertical-align: middle;\n",
       "    }\n",
       "\n",
       "    .dataframe tbody tr th {\n",
       "        vertical-align: top;\n",
       "    }\n",
       "\n",
       "    .dataframe thead th {\n",
       "        text-align: right;\n",
       "    }\n",
       "</style>\n",
       "<table border=\"1\" class=\"dataframe\">\n",
       "  <thead>\n",
       "    <tr style=\"text-align: right;\">\n",
       "      <th></th>\n",
       "      <th>Survived</th>\n",
       "      <th>Pclass</th>\n",
       "      <th>Sex</th>\n",
       "      <th>Age</th>\n",
       "      <th>SibSp</th>\n",
       "      <th>Parch</th>\n",
       "      <th>Embarked</th>\n",
       "    </tr>\n",
       "  </thead>\n",
       "  <tbody>\n",
       "    <tr>\n",
       "      <th>0</th>\n",
       "      <td>0</td>\n",
       "      <td>3</td>\n",
       "      <td>male</td>\n",
       "      <td>22.0</td>\n",
       "      <td>1</td>\n",
       "      <td>0</td>\n",
       "      <td>S</td>\n",
       "    </tr>\n",
       "    <tr>\n",
       "      <th>1</th>\n",
       "      <td>1</td>\n",
       "      <td>1</td>\n",
       "      <td>female</td>\n",
       "      <td>38.0</td>\n",
       "      <td>1</td>\n",
       "      <td>0</td>\n",
       "      <td>C</td>\n",
       "    </tr>\n",
       "  </tbody>\n",
       "</table>\n",
       "</div>"
      ],
      "text/plain": [
       "   Survived  Pclass     Sex   Age  SibSp  Parch Embarked\n",
       "0         0       3    male  22.0      1      0        S\n",
       "1         1       1  female  38.0      1      0        C"
      ]
     },
     "execution_count": 9,
     "metadata": {},
     "output_type": "execute_result"
    }
   ],
   "source": [
    "train2.head(2)"
   ]
  },
  {
   "cell_type": "code",
   "execution_count": 10,
   "metadata": {},
   "outputs": [
    {
     "data": {
      "text/html": [
       "<div>\n",
       "<style scoped>\n",
       "    .dataframe tbody tr th:only-of-type {\n",
       "        vertical-align: middle;\n",
       "    }\n",
       "\n",
       "    .dataframe tbody tr th {\n",
       "        vertical-align: top;\n",
       "    }\n",
       "\n",
       "    .dataframe thead th {\n",
       "        text-align: right;\n",
       "    }\n",
       "</style>\n",
       "<table border=\"1\" class=\"dataframe\">\n",
       "  <thead>\n",
       "    <tr style=\"text-align: right;\">\n",
       "      <th></th>\n",
       "      <th>Pclass</th>\n",
       "      <th>Sex</th>\n",
       "      <th>Age</th>\n",
       "      <th>SibSp</th>\n",
       "      <th>Parch</th>\n",
       "      <th>Embarked</th>\n",
       "    </tr>\n",
       "  </thead>\n",
       "  <tbody>\n",
       "    <tr>\n",
       "      <th>0</th>\n",
       "      <td>3</td>\n",
       "      <td>male</td>\n",
       "      <td>34.5</td>\n",
       "      <td>0</td>\n",
       "      <td>0</td>\n",
       "      <td>Q</td>\n",
       "    </tr>\n",
       "    <tr>\n",
       "      <th>1</th>\n",
       "      <td>3</td>\n",
       "      <td>female</td>\n",
       "      <td>47.0</td>\n",
       "      <td>1</td>\n",
       "      <td>0</td>\n",
       "      <td>S</td>\n",
       "    </tr>\n",
       "  </tbody>\n",
       "</table>\n",
       "</div>"
      ],
      "text/plain": [
       "   Pclass     Sex   Age  SibSp  Parch Embarked\n",
       "0       3    male  34.5      0      0        Q\n",
       "1       3  female  47.0      1      0        S"
      ]
     },
     "execution_count": 10,
     "metadata": {},
     "output_type": "execute_result"
    }
   ],
   "source": [
    "test2.head(2)"
   ]
  },
  {
   "cell_type": "markdown",
   "metadata": {},
   "source": [
    "# Check Null Embarked"
   ]
  },
  {
   "cell_type": "code",
   "execution_count": 11,
   "metadata": {},
   "outputs": [
    {
     "data": {
      "text/html": [
       "<div>\n",
       "<style scoped>\n",
       "    .dataframe tbody tr th:only-of-type {\n",
       "        vertical-align: middle;\n",
       "    }\n",
       "\n",
       "    .dataframe tbody tr th {\n",
       "        vertical-align: top;\n",
       "    }\n",
       "\n",
       "    .dataframe thead th {\n",
       "        text-align: right;\n",
       "    }\n",
       "</style>\n",
       "<table border=\"1\" class=\"dataframe\">\n",
       "  <thead>\n",
       "    <tr style=\"text-align: right;\">\n",
       "      <th></th>\n",
       "      <th>Survived</th>\n",
       "      <th>Pclass</th>\n",
       "      <th>Sex</th>\n",
       "      <th>Age</th>\n",
       "      <th>SibSp</th>\n",
       "      <th>Parch</th>\n",
       "      <th>Embarked</th>\n",
       "    </tr>\n",
       "  </thead>\n",
       "  <tbody>\n",
       "    <tr>\n",
       "      <th>61</th>\n",
       "      <td>1</td>\n",
       "      <td>1</td>\n",
       "      <td>female</td>\n",
       "      <td>38.0</td>\n",
       "      <td>0</td>\n",
       "      <td>0</td>\n",
       "      <td>NaN</td>\n",
       "    </tr>\n",
       "    <tr>\n",
       "      <th>829</th>\n",
       "      <td>1</td>\n",
       "      <td>1</td>\n",
       "      <td>female</td>\n",
       "      <td>62.0</td>\n",
       "      <td>0</td>\n",
       "      <td>0</td>\n",
       "      <td>NaN</td>\n",
       "    </tr>\n",
       "  </tbody>\n",
       "</table>\n",
       "</div>"
      ],
      "text/plain": [
       "     Survived  Pclass     Sex   Age  SibSp  Parch Embarked\n",
       "61          1       1  female  38.0      0      0      NaN\n",
       "829         1       1  female  62.0      0      0      NaN"
      ]
     },
     "execution_count": 11,
     "metadata": {},
     "output_type": "execute_result"
    }
   ],
   "source": [
    "train2[train2[\"Embarked\"].isnull()==True]"
   ]
  },
  {
   "cell_type": "markdown",
   "metadata": {},
   "source": [
    "# Fill with highest embarked"
   ]
  },
  {
   "cell_type": "code",
   "execution_count": 12,
   "metadata": {},
   "outputs": [
    {
     "data": {
      "text/plain": [
       "'S'"
      ]
     },
     "execution_count": 12,
     "metadata": {},
     "output_type": "execute_result"
    }
   ],
   "source": [
    "most_embarked = train2[\"Embarked\"].mode()[0]\n",
    "most_embarked"
   ]
  },
  {
   "cell_type": "code",
   "execution_count": 13,
   "metadata": {},
   "outputs": [],
   "source": [
    "train2[\"Embarked\"] = train2[\"Embarked\"].fillna(most_embarked)"
   ]
  },
  {
   "cell_type": "markdown",
   "metadata": {},
   "source": [
    "# Recheck Null Embarked"
   ]
  },
  {
   "cell_type": "code",
   "execution_count": 14,
   "metadata": {},
   "outputs": [
    {
     "data": {
      "text/html": [
       "<div>\n",
       "<style scoped>\n",
       "    .dataframe tbody tr th:only-of-type {\n",
       "        vertical-align: middle;\n",
       "    }\n",
       "\n",
       "    .dataframe tbody tr th {\n",
       "        vertical-align: top;\n",
       "    }\n",
       "\n",
       "    .dataframe thead th {\n",
       "        text-align: right;\n",
       "    }\n",
       "</style>\n",
       "<table border=\"1\" class=\"dataframe\">\n",
       "  <thead>\n",
       "    <tr style=\"text-align: right;\">\n",
       "      <th></th>\n",
       "      <th>Survived</th>\n",
       "      <th>Pclass</th>\n",
       "      <th>Sex</th>\n",
       "      <th>Age</th>\n",
       "      <th>SibSp</th>\n",
       "      <th>Parch</th>\n",
       "      <th>Embarked</th>\n",
       "    </tr>\n",
       "  </thead>\n",
       "  <tbody>\n",
       "  </tbody>\n",
       "</table>\n",
       "</div>"
      ],
      "text/plain": [
       "Empty DataFrame\n",
       "Columns: [Survived, Pclass, Sex, Age, SibSp, Parch, Embarked]\n",
       "Index: []"
      ]
     },
     "execution_count": 14,
     "metadata": {},
     "output_type": "execute_result"
    }
   ],
   "source": [
    "train2[train2[\"Embarked\"].isnull()==True]"
   ]
  },
  {
   "cell_type": "markdown",
   "metadata": {},
   "source": [
    "# Check Null Age"
   ]
  },
  {
   "cell_type": "code",
   "execution_count": 15,
   "metadata": {
    "scrolled": true
   },
   "outputs": [
    {
     "data": {
      "text/plain": [
       "177"
      ]
     },
     "execution_count": 15,
     "metadata": {},
     "output_type": "execute_result"
    }
   ],
   "source": [
    "len(train2[train2[\"Age\"].isnull()])"
   ]
  },
  {
   "cell_type": "code",
   "execution_count": 16,
   "metadata": {},
   "outputs": [
    {
     "data": {
      "text/plain": [
       "86"
      ]
     },
     "execution_count": 16,
     "metadata": {},
     "output_type": "execute_result"
    }
   ],
   "source": [
    "len(test2[test2[\"Age\"].isnull()])"
   ]
  },
  {
   "cell_type": "markdown",
   "metadata": {},
   "source": [
    "# Function to fill Age\n",
    "Make a function because both train and test have missing ages."
   ]
  },
  {
   "cell_type": "code",
   "execution_count": 17,
   "metadata": {},
   "outputs": [],
   "source": [
    "def fill_age(df):\n",
    "    for s in [\"male\", \"female\"]:\n",
    "            for c in [1, 2, 3]:\n",
    "                truth_table = (df[\"Sex\"] == s) & (df[\"Pclass\"] == c)\n",
    "                temp_df = df[truth_table][\"Age\"].dropna()\n",
    "                median_age = temp_df.median()\n",
    "                df.loc[(df.Age.isnull()) & (df.Sex == s) & (df.Pclass == c),\"Age\"] = median_age"
   ]
  },
  {
   "cell_type": "code",
   "execution_count": 18,
   "metadata": {},
   "outputs": [],
   "source": [
    "fill_age(train2)\n",
    "fill_age(test2)"
   ]
  },
  {
   "cell_type": "markdown",
   "metadata": {},
   "source": [
    "# Correlation Plot\n",
    "Function to plot correlation map."
   ]
  },
  {
   "cell_type": "code",
   "execution_count": 19,
   "metadata": {},
   "outputs": [],
   "source": [
    "def show_corr(df):\n",
    "    _, ax = plt.subplots(figsize=(8,6))\n",
    "\n",
    "    # Colormap : Colors to denote correlation values\n",
    "    cmap = sns.diverging_palette(250 , 10, s=68, l=40, as_cmap = True )\n",
    "\n",
    "    # Plotting heatmap using seaborn\n",
    "    sns.heatmap(df.corr(), cmap=cmap, vmin=-1, vmax=1, annot=True)"
   ]
  },
  {
   "cell_type": "code",
   "execution_count": 20,
   "metadata": {},
   "outputs": [
    {
     "data": {
      "image/png": "[encoded data removed]",
      "text/plain": [
       "<matplotlib.figure.Figure at 0x7f394f558780>"
      ]
     },
     "metadata": {},
     "output_type": "display_data"
    }
   ],
   "source": [
    "show_corr(train2)"
   ]
  },
  {
   "cell_type": "markdown",
   "metadata": {},
   "source": [
    "# Convert features to numerical\n",
    "For now do not use one-hot encoding"
   ]
  },
  {
   "cell_type": "code",
   "execution_count": 21,
   "metadata": {},
   "outputs": [],
   "source": [
    "num_mapper = {\n",
    "                \"Embarked\" : {'C' : 1, 'S': 2, 'Q' : 3},\n",
    "                \"Sex\"      : {'male' : 1, 'female': 2},\n",
    "            }\n",
    "train2 = train2.replace(num_mapper)\n",
    "test2 = test2.replace(num_mapper)"
   ]
  },
  {
   "cell_type": "code",
   "execution_count": 22,
   "metadata": {},
   "outputs": [
    {
     "data": {
      "image/png": "[encoded data removed]",
      "text/plain": [
       "<matplotlib.figure.Figure at 0x7f3946ff2518>"
      ]
     },
     "metadata": {},
     "output_type": "display_data"
    }
   ],
   "source": [
    "show_corr(train2)"
   ]
  },
  {
   "cell_type": "markdown",
   "metadata": {},
   "source": [
    "# Create X (Features) and Y (Labels)"
   ]
  },
  {
   "cell_type": "code",
   "execution_count": 23,
   "metadata": {},
   "outputs": [
    {
     "data": {
      "text/html": [
       "<div>\n",
       "<style scoped>\n",
       "    .dataframe tbody tr th:only-of-type {\n",
       "        vertical-align: middle;\n",
       "    }\n",
       "\n",
       "    .dataframe tbody tr th {\n",
       "        vertical-align: top;\n",
       "    }\n",
       "\n",
       "    .dataframe thead th {\n",
       "        text-align: right;\n",
       "    }\n",
       "</style>\n",
       "<table border=\"1\" class=\"dataframe\">\n",
       "  <thead>\n",
       "    <tr style=\"text-align: right;\">\n",
       "      <th></th>\n",
       "      <th>Pclass</th>\n",
       "      <th>Sex</th>\n",
       "      <th>Age</th>\n",
       "      <th>SibSp</th>\n",
       "      <th>Parch</th>\n",
       "      <th>Embarked</th>\n",
       "    </tr>\n",
       "  </thead>\n",
       "  <tbody>\n",
       "    <tr>\n",
       "      <th>888</th>\n",
       "      <td>3</td>\n",
       "      <td>2</td>\n",
       "      <td>21.5</td>\n",
       "      <td>1</td>\n",
       "      <td>2</td>\n",
       "      <td>2</td>\n",
       "    </tr>\n",
       "    <tr>\n",
       "      <th>889</th>\n",
       "      <td>1</td>\n",
       "      <td>1</td>\n",
       "      <td>26.0</td>\n",
       "      <td>0</td>\n",
       "      <td>0</td>\n",
       "      <td>1</td>\n",
       "    </tr>\n",
       "    <tr>\n",
       "      <th>890</th>\n",
       "      <td>3</td>\n",
       "      <td>1</td>\n",
       "      <td>32.0</td>\n",
       "      <td>0</td>\n",
       "      <td>0</td>\n",
       "      <td>3</td>\n",
       "    </tr>\n",
       "  </tbody>\n",
       "</table>\n",
       "</div>"
      ],
      "text/plain": [
       "     Pclass  Sex   Age  SibSp  Parch  Embarked\n",
       "888       3    2  21.5      1      2         2\n",
       "889       1    1  26.0      0      0         1\n",
       "890       3    1  32.0      0      0         3"
      ]
     },
     "execution_count": 23,
     "metadata": {},
     "output_type": "execute_result"
    }
   ],
   "source": [
    "train2_x = train2.drop([\"Survived\"], axis=1)\n",
    "train2_x.tail(3)"
   ]
  },
  {
   "cell_type": "code",
   "execution_count": 24,
   "metadata": {},
   "outputs": [
    {
     "data": {
      "text/plain": [
       "886    0\n",
       "887    1\n",
       "888    0\n",
       "889    1\n",
       "890    0\n",
       "Name: Survived, dtype: int64"
      ]
     },
     "execution_count": 24,
     "metadata": {},
     "output_type": "execute_result"
    }
   ],
   "source": [
    "train2_y = train2[\"Survived\"]\n",
    "train2_y.tail()"
   ]
  },
  {
   "cell_type": "markdown",
   "metadata": {},
   "source": [
    "# Testing Random Forest Classifier"
   ]
  },
  {
   "cell_type": "code",
   "execution_count": 25,
   "metadata": {},
   "outputs": [
    {
     "data": {
      "text/plain": [
       "0.9259259259259259"
      ]
     },
     "execution_count": 25,
     "metadata": {},
     "output_type": "execute_result"
    }
   ],
   "source": [
    "from sklearn.ensemble import RandomForestClassifier\n",
    "\n",
    "clf_rf = RandomForestClassifier(random_state = 12)\n",
    "clf_rf.fit(train2_x, train2_y)\n",
    "clf_rf.score(train2_x, train2_y)"
   ]
  },
  {
   "cell_type": "markdown",
   "metadata": {},
   "source": [
    "# Function to convert predictions to appropriate csv file\n",
    "This function takes the original **test** data frame, the **predictions list**, a **filename** to save the csv file and **save** flag to determine if the csv file should be saved."
   ]
  },
  {
   "cell_type": "code",
   "execution_count": 26,
   "metadata": {},
   "outputs": [],
   "source": [
    "def kgl_submit_csv(df, predictions, savename = \"my_predictions.csv\", save=False):\n",
    "    print(\"Number of predictions:\", len(predictions))\n",
    "    print(\"Number of passengers\", len(df[\"PassengerId\"]))\n",
    "    \n",
    "    kgl_df = pd.DataFrame({\n",
    "        \"PassengerId\" : df[\"PassengerId\"],\n",
    "        \"Survived\" : predictions\n",
    "    })\n",
    "    \n",
    "    if save:\n",
    "        kgl_df.to_csv(savename, index=False)\n",
    "    \n",
    "    return kgl_df"
   ]
  },
  {
   "cell_type": "code",
   "execution_count": 27,
   "metadata": {},
   "outputs": [],
   "source": [
    "predictions2 = clf_rf.predict(test2)"
   ]
  },
  {
   "cell_type": "code",
   "execution_count": 28,
   "metadata": {},
   "outputs": [
    {
     "name": "stdout",
     "output_type": "stream",
     "text": [
      "Number of predictions: 418\n",
      "Number of passengers 418\n"
     ]
    }
   ],
   "source": [
    "_ = kgl_submit_csv(test_df, predictions2, savename= \"pred2.csv\", save=True)"
   ]
  },
  {
   "cell_type": "markdown",
   "metadata": {},
   "source": [
    "# Verdict\n",
    ".  \n",
    ".  \n",
    ".  \n",
    ".  \n",
    "Kaggle score = 74.641%"
   ]
  },
  {
   "cell_type": "markdown",
   "metadata": {},
   "source": [
    "# Using Keras Fully Connected Layers"
   ]
  },
  {
   "cell_type": "markdown",
   "metadata": {},
   "source": [
    "## Importing Keras Modules"
   ]
  },
  {
   "cell_type": "code",
   "execution_count": 29,
   "metadata": {},
   "outputs": [
    {
     "name": "stderr",
     "output_type": "stream",
     "text": [
      "/opt/anaconda3/envs/ktf-cv3/lib/python3.6/site-packages/h5py/__init__.py:36: FutureWarning: Conversion of the second argument of issubdtype from `float` to `np.floating` is deprecated. In future, it will be treated as `np.float64 == np.dtype(float).type`.\n",
      "  from ._conv import register_converters as _register_converters\n",
      "Using TensorFlow backend.\n"
     ]
    }
   ],
   "source": [
    "from keras.models import Sequential\n",
    "from keras.layers import Dense"
   ]
  },
  {
   "cell_type": "markdown",
   "metadata": {},
   "source": [
    "## Convert DataFrame to 2d array"
   ]
  },
  {
   "cell_type": "code",
   "execution_count": 30,
   "metadata": {},
   "outputs": [
    {
     "data": {
      "text/plain": [
       "array([[ 3. ,  1. , 22. ,  1. ,  0. ,  2. ],\n",
       "       [ 1. ,  2. , 38. ,  1. ,  0. ,  1. ],\n",
       "       [ 3. ,  2. , 26. ,  0. ,  0. ,  2. ],\n",
       "       ...,\n",
       "       [ 3. ,  2. , 21.5,  1. ,  2. ,  2. ],\n",
       "       [ 1. ,  1. , 26. ,  0. ,  0. ,  1. ],\n",
       "       [ 3. ,  1. , 32. ,  0. ,  0. ,  3. ]])"
      ]
     },
     "execution_count": 30,
     "metadata": {},
     "output_type": "execute_result"
    }
   ],
   "source": [
    "trainx = train2_x.values\n",
    "trainx"
   ]
  },
  {
   "cell_type": "code",
   "execution_count": 31,
   "metadata": {},
   "outputs": [],
   "source": [
    "trainy = train2_y.values"
   ]
  },
  {
   "cell_type": "markdown",
   "metadata": {},
   "source": [
    "## Create a Fully Connected ANN Architecture\n",
    "There are 2 layers in our network:  \n",
    "1. A hidden layer\n",
    "2. An output layer  \n",
    "\n",
    "The first parameter to Dense is the number of nodes which in our case is 8 for the 1st one and 1 for the output node.  \n",
    "The input_dim is the number of features of the data.  \n",
    "Rectified Linear Unit is used activation for the hidden layer and Sigmoid for the output layer"
   ]
  },
  {
   "cell_type": "code",
   "execution_count": 32,
   "metadata": {},
   "outputs": [],
   "source": [
    "# Initializing model\n",
    "model = Sequential()\n",
    "\n",
    "# Adding hidden layer\n",
    "model.add(Dense(8, input_dim=6, activation='relu'))\n",
    "\n",
    "# Adding output layer\n",
    "model.add(Dense(1, activation='sigmoid'))"
   ]
  },
  {
   "cell_type": "markdown",
   "metadata": {},
   "source": [
    "## Assign Loss function, Optimizer and Accuracy Metrics\n",
    "We use **binary crossentropy** function to calculate the loss because this is a binary classfication problem i.e. Survived takes two values either 1 or 0.  \n",
    "We use **Adam** optimizer which is an advance version of **Gradient Descent**.  \n",
    "Finally, we add additional metrics we want to observe which in our case is the **Accuarcy**."
   ]
  },
  {
   "cell_type": "code",
   "execution_count": 33,
   "metadata": {},
   "outputs": [],
   "source": [
    "model.compile(loss='binary_crossentropy', optimizer='adam', metrics=['accuracy'])"
   ]
  },
  {
   "cell_type": "markdown",
   "metadata": {},
   "source": [
    "## Start the training\n",
    "We set 40 **epochs** which means there will be 40 sets of forward and backward propagations.\n",
    "We use 40 **batch size** which means we will iteratively use 40 rows of data one after another per epoch rather than taking the whole data simultaneously.  \n",
    "We set aside 10% of total data as specified by 0.1 **validation_split** to perform validation.  \n",
    "We set **shuffle** False which means the data will not be shuffler after each epoch."
   ]
  },
  {
   "cell_type": "code",
   "execution_count": 34,
   "metadata": {
    "scrolled": true
   },
   "outputs": [
    {
     "name": "stdout",
     "output_type": "stream",
     "text": [
      "Train on 801 samples, validate on 90 samples\n",
      "Epoch 1/40\n",
      " - 0s - loss: 1.2503 - acc: 0.5980 - val_loss: 1.1152 - val_acc: 0.5778\n",
      "Epoch 2/40\n",
      " - 0s - loss: 0.9442 - acc: 0.5993 - val_loss: 0.8561 - val_acc: 0.5667\n",
      "Epoch 3/40\n",
      " - 0s - loss: 0.7415 - acc: 0.6042 - val_loss: 0.7256 - val_acc: 0.5778\n",
      "Epoch 4/40\n",
      " - 0s - loss: 0.6708 - acc: 0.6117 - val_loss: 0.6884 - val_acc: 0.5889\n",
      "Epoch 5/40\n",
      " - 0s - loss: 0.6502 - acc: 0.6092 - val_loss: 0.6582 - val_acc: 0.5667\n",
      "Epoch 6/40\n",
      " - 0s - loss: 0.6357 - acc: 0.6092 - val_loss: 0.6366 - val_acc: 0.5889\n",
      "Epoch 7/40\n",
      " - 0s - loss: 0.6245 - acc: 0.6155 - val_loss: 0.6186 - val_acc: 0.6000\n",
      "Epoch 8/40\n",
      " - 0s - loss: 0.6117 - acc: 0.6230 - val_loss: 0.5951 - val_acc: 0.6222\n",
      "Epoch 9/40\n",
      " - 0s - loss: 0.5999 - acc: 0.6392 - val_loss: 0.5776 - val_acc: 0.6889\n",
      "Epoch 10/40\n",
      " - 0s - loss: 0.5915 - acc: 0.6604 - val_loss: 0.5661 - val_acc: 0.7222\n",
      "Epoch 11/40\n",
      " - 0s - loss: 0.5849 - acc: 0.6829 - val_loss: 0.5571 - val_acc: 0.7444\n",
      "Epoch 12/40\n",
      " - 0s - loss: 0.5789 - acc: 0.7029 - val_loss: 0.5494 - val_acc: 0.7556\n",
      "Epoch 13/40\n",
      " - 0s - loss: 0.5735 - acc: 0.7041 - val_loss: 0.5424 - val_acc: 0.7556\n",
      "Epoch 14/40\n",
      " - 0s - loss: 0.5683 - acc: 0.7116 - val_loss: 0.5361 - val_acc: 0.7667\n",
      "Epoch 15/40\n",
      " - 0s - loss: 0.5633 - acc: 0.7191 - val_loss: 0.5302 - val_acc: 0.7667\n",
      "Epoch 16/40\n",
      " - 0s - loss: 0.5585 - acc: 0.7291 - val_loss: 0.5247 - val_acc: 0.7778\n",
      "Epoch 17/40\n",
      " - 0s - loss: 0.5539 - acc: 0.7316 - val_loss: 0.5195 - val_acc: 0.8000\n",
      "Epoch 18/40\n",
      " - 0s - loss: 0.5494 - acc: 0.7353 - val_loss: 0.5145 - val_acc: 0.8111\n",
      "Epoch 19/40\n",
      " - 0s - loss: 0.5449 - acc: 0.7403 - val_loss: 0.5098 - val_acc: 0.8222\n",
      "Epoch 20/40\n",
      " - 0s - loss: 0.5406 - acc: 0.7466 - val_loss: 0.5052 - val_acc: 0.8222\n",
      "Epoch 21/40\n",
      " - 0s - loss: 0.5364 - acc: 0.7503 - val_loss: 0.5007 - val_acc: 0.8333\n",
      "Epoch 22/40\n",
      " - 0s - loss: 0.5322 - acc: 0.7541 - val_loss: 0.4964 - val_acc: 0.8333\n",
      "Epoch 23/40\n",
      " - 0s - loss: 0.5280 - acc: 0.7528 - val_loss: 0.4921 - val_acc: 0.8222\n",
      "Epoch 24/40\n",
      " - 0s - loss: 0.5238 - acc: 0.7578 - val_loss: 0.4878 - val_acc: 0.8333\n",
      "Epoch 25/40\n",
      " - 0s - loss: 0.5196 - acc: 0.7653 - val_loss: 0.4836 - val_acc: 0.8333\n",
      "Epoch 26/40\n",
      " - 0s - loss: 0.5155 - acc: 0.7665 - val_loss: 0.4796 - val_acc: 0.8333\n",
      "Epoch 27/40\n",
      " - 0s - loss: 0.5115 - acc: 0.7678 - val_loss: 0.4757 - val_acc: 0.8333\n",
      "Epoch 28/40\n",
      " - 0s - loss: 0.5075 - acc: 0.7740 - val_loss: 0.4719 - val_acc: 0.8333\n",
      "Epoch 29/40\n",
      " - 0s - loss: 0.5038 - acc: 0.7778 - val_loss: 0.4683 - val_acc: 0.8333\n",
      "Epoch 30/40\n",
      " - 0s - loss: 0.5002 - acc: 0.7790 - val_loss: 0.4648 - val_acc: 0.8333\n",
      "Epoch 31/40\n",
      " - 0s - loss: 0.4967 - acc: 0.7853 - val_loss: 0.4616 - val_acc: 0.8667\n",
      "Epoch 32/40\n",
      " - 0s - loss: 0.4935 - acc: 0.7878 - val_loss: 0.4583 - val_acc: 0.8778\n",
      "Epoch 33/40\n",
      " - 0s - loss: 0.4904 - acc: 0.7878 - val_loss: 0.4552 - val_acc: 0.8667\n",
      "Epoch 34/40\n",
      " - 0s - loss: 0.4874 - acc: 0.7878 - val_loss: 0.4523 - val_acc: 0.8667\n",
      "Epoch 35/40\n",
      " - 0s - loss: 0.4845 - acc: 0.7890 - val_loss: 0.4494 - val_acc: 0.8667\n",
      "Epoch 36/40\n",
      " - 0s - loss: 0.4818 - acc: 0.7903 - val_loss: 0.4467 - val_acc: 0.8667\n",
      "Epoch 37/40\n",
      " - 0s - loss: 0.4792 - acc: 0.7915 - val_loss: 0.4442 - val_acc: 0.8667\n",
      "Epoch 38/40\n",
      " - 0s - loss: 0.4767 - acc: 0.7903 - val_loss: 0.4417 - val_acc: 0.8667\n",
      "Epoch 39/40\n",
      " - 0s - loss: 0.4743 - acc: 0.7940 - val_loss: 0.4394 - val_acc: 0.8667\n",
      "Epoch 40/40\n",
      " - 0s - loss: 0.4721 - acc: 0.7953 - val_loss: 0.4370 - val_acc: 0.8667\n"
     ]
    }
   ],
   "source": [
    "history_object = model.fit(trainx, trainy, epochs=40, batch_size=40, \n",
    "                           verbose=2, validation_split=0.1, \n",
    "                           shuffle=False)"
   ]
  },
  {
   "cell_type": "markdown",
   "metadata": {},
   "source": [
    "## Function to visualize training loss"
   ]
  },
  {
   "cell_type": "code",
   "execution_count": 35,
   "metadata": {},
   "outputs": [],
   "source": [
    "def visualize_loss(history_obj, show=False, save=True, x=10, y=10):\n",
    "\n",
    "    plt.figure(figsize=(x, y))\n",
    "    plt.plot(history_obj.history['loss'])\n",
    "    plt.plot(history_obj.history['val_loss'])\n",
    "    plt.title(' Model Loss Visualization')\n",
    "    plt.ylabel('Mean Squared Error Loss')\n",
    "    plt.xlabel('Epoch')\n",
    "    plt.legend(['training set', 'validation set'], loc='upper right')\n",
    "    plt.grid()"
   ]
  },
  {
   "cell_type": "code",
   "execution_count": 36,
   "metadata": {
    "scrolled": false
   },
   "outputs": [
    {
     "data": {
      "image/png": "[encoded data removed]",
      "text/plain": [
       "<matplotlib.figure.Figure at 0x7f39384afdd8>"
      ]
     },
     "metadata": {},
     "output_type": "display_data"
    }
   ],
   "source": [
    "visualize_loss(history_object)"
   ]
  },
  {
   "cell_type": "markdown",
   "metadata": {},
   "source": [
    "## Function to save Keras predictions"
   ]
  },
  {
   "cell_type": "code",
   "execution_count": 37,
   "metadata": {},
   "outputs": [],
   "source": [
    "def kgl_submit_csv_keras(df, predictions, savename = \"my_predictions.csv\", save=False):\n",
    "    print(\"Number of predictions:\", len(predictions))\n",
    "    print(\"Number of passengers\", len(df[\"PassengerId\"]))\n",
    "    \n",
    "    kgl_df = pd.DataFrame({\n",
    "        \"PassengerId\" : df[\"PassengerId\"],\n",
    "        \"Survived\" : predictions.reshape(-1)\n",
    "    })\n",
    "    \n",
    "    kgl_df.loc[kgl_df[\"Survived\"]>=0.5, \"Survived\"]= 1\n",
    "    kgl_df.loc[kgl_df[\"Survived\"]<0.5, \"Survived\"]= 0\n",
    "    kgl_df[\"Survived\"] = np.array(kgl_df[\"Survived\"]).astype(int)\n",
    "\n",
    "    if save:\n",
    "        kgl_df.to_csv(savename, index=False)    \n",
    "        \n",
    "#     return kgl_df"
   ]
  },
  {
   "cell_type": "code",
   "execution_count": 38,
   "metadata": {},
   "outputs": [],
   "source": [
    "predictions_k = model.predict(test2.values)"
   ]
  },
  {
   "cell_type": "code",
   "execution_count": 39,
   "metadata": {},
   "outputs": [
    {
     "name": "stdout",
     "output_type": "stream",
     "text": [
      "Number of predictions: 418\n",
      "Number of passengers 418\n"
     ]
    }
   ],
   "source": [
    "kgl_submit_csv_keras(test_df, predictions_k, savename=\"pred_keras.csv\", save=True)"
   ]
  },
  {
   "cell_type": "markdown",
   "metadata": {},
   "source": [
    "# Verdict\n",
    ".  \n",
    ".  \n",
    ".  \n",
    ".  \n",
    ".  \n",
    "Kaggle score = 76.076 %"
   ]
  }
 ],
 "metadata": {
  "kernelspec": {
   "display_name": "Python 3",
   "language": "python",
   "name": "python3"
  },
  "language_info": {
   "codemirror_mode": {
    "name": "ipython",
    "version": 3
   },
   "file_extension": ".py",
   "mimetype": "text/x-python",
   "name": "python",
   "nbconvert_exporter": "python",
   "pygments_lexer": "ipython3",
   "version": "3.6.4"
  }
 },
 "nbformat": 4,
 "nbformat_minor": 2
}
